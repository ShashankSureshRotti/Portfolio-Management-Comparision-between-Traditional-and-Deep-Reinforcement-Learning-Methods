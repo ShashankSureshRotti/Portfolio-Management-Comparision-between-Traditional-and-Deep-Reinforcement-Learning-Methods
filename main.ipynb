{
 "cells": [
  {
   "cell_type": "markdown",
   "id": "a3c61b42-a4e1-4699-9d33-d990f66e0598",
   "metadata": {},
   "source": [
    "# Preprocessing"
   ]
  },
  {
   "cell_type": "code",
   "execution_count": 1,
   "id": "f7843106",
   "metadata": {},
   "outputs": [
    {
     "name": "stdout",
     "output_type": "stream",
     "text": [
      "Requirement already satisfied: pandas_datareader in /Users/shashanksr/opt/anaconda3/lib/python3.9/site-packages (0.10.0)\n",
      "Requirement already satisfied: lxml in /Users/shashanksr/opt/anaconda3/lib/python3.9/site-packages (from pandas_datareader) (4.8.0)\n",
      "Requirement already satisfied: requests>=2.19.0 in /Users/shashanksr/opt/anaconda3/lib/python3.9/site-packages (from pandas_datareader) (2.27.1)\n",
      "Requirement already satisfied: pandas>=0.23 in /Users/shashanksr/opt/anaconda3/lib/python3.9/site-packages (from pandas_datareader) (1.4.4)\n",
      "Requirement already satisfied: python-dateutil>=2.8.1 in /Users/shashanksr/opt/anaconda3/lib/python3.9/site-packages (from pandas>=0.23->pandas_datareader) (2.8.2)\n",
      "Requirement already satisfied: pytz>=2020.1 in /Users/shashanksr/opt/anaconda3/lib/python3.9/site-packages (from pandas>=0.23->pandas_datareader) (2021.3)\n",
      "Requirement already satisfied: numpy>=1.18.5 in /Users/shashanksr/opt/anaconda3/lib/python3.9/site-packages (from pandas>=0.23->pandas_datareader) (1.21.5)\n",
      "Requirement already satisfied: six>=1.5 in /Users/shashanksr/opt/anaconda3/lib/python3.9/site-packages (from python-dateutil>=2.8.1->pandas>=0.23->pandas_datareader) (1.16.0)\n",
      "Requirement already satisfied: urllib3<1.27,>=1.21.1 in /Users/shashanksr/opt/anaconda3/lib/python3.9/site-packages (from requests>=2.19.0->pandas_datareader) (1.26.9)\n",
      "Requirement already satisfied: idna<4,>=2.5 in /Users/shashanksr/opt/anaconda3/lib/python3.9/site-packages (from requests>=2.19.0->pandas_datareader) (3.3)\n",
      "Requirement already satisfied: charset-normalizer~=2.0.0 in /Users/shashanksr/opt/anaconda3/lib/python3.9/site-packages (from requests>=2.19.0->pandas_datareader) (2.0.4)\n",
      "Requirement already satisfied: certifi>=2017.4.17 in /Users/shashanksr/opt/anaconda3/lib/python3.9/site-packages (from requests>=2.19.0->pandas_datareader) (2022.12.7)\n",
      "Requirement already satisfied: yfinance in /Users/shashanksr/opt/anaconda3/lib/python3.9/site-packages (0.1.74)\n",
      "Requirement already satisfied: lxml>=4.5.1 in /Users/shashanksr/opt/anaconda3/lib/python3.9/site-packages (from yfinance) (4.8.0)\n",
      "Requirement already satisfied: requests>=2.26 in /Users/shashanksr/opt/anaconda3/lib/python3.9/site-packages (from yfinance) (2.27.1)\n",
      "Requirement already satisfied: numpy>=1.15 in /Users/shashanksr/opt/anaconda3/lib/python3.9/site-packages (from yfinance) (1.21.5)\n",
      "Requirement already satisfied: pandas>=0.24.0 in /Users/shashanksr/opt/anaconda3/lib/python3.9/site-packages (from yfinance) (1.4.4)\n",
      "Requirement already satisfied: multitasking>=0.0.7 in /Users/shashanksr/opt/anaconda3/lib/python3.9/site-packages (from yfinance) (0.0.11)\n",
      "Requirement already satisfied: python-dateutil>=2.8.1 in /Users/shashanksr/opt/anaconda3/lib/python3.9/site-packages (from pandas>=0.24.0->yfinance) (2.8.2)\n",
      "Requirement already satisfied: pytz>=2020.1 in /Users/shashanksr/opt/anaconda3/lib/python3.9/site-packages (from pandas>=0.24.0->yfinance) (2021.3)\n",
      "Requirement already satisfied: six>=1.5 in /Users/shashanksr/opt/anaconda3/lib/python3.9/site-packages (from python-dateutil>=2.8.1->pandas>=0.24.0->yfinance) (1.16.0)\n",
      "Requirement already satisfied: idna<4,>=2.5 in /Users/shashanksr/opt/anaconda3/lib/python3.9/site-packages (from requests>=2.26->yfinance) (3.3)\n",
      "Requirement already satisfied: urllib3<1.27,>=1.21.1 in /Users/shashanksr/opt/anaconda3/lib/python3.9/site-packages (from requests>=2.26->yfinance) (1.26.9)\n",
      "Requirement already satisfied: charset-normalizer~=2.0.0 in /Users/shashanksr/opt/anaconda3/lib/python3.9/site-packages (from requests>=2.26->yfinance) (2.0.4)\n",
      "Requirement already satisfied: certifi>=2017.4.17 in /Users/shashanksr/opt/anaconda3/lib/python3.9/site-packages (from requests>=2.26->yfinance) (2022.12.7)\n"
     ]
    }
   ],
   "source": [
    "!pip3 install pandas_datareader\n",
    "!pip install yfinance"
   ]
  },
  {
   "cell_type": "code",
   "execution_count": 2,
   "id": "67be38ce-5e86-4f4d-a603-3eaa027e82f4",
   "metadata": {},
   "outputs": [],
   "source": [
    "import pandas as pd\n",
    "import matplotlib.pyplot as plt\n",
    "#from pandas_datareader import data as pdr\n",
    "import yfinance as yf\n",
    "yf.pdr_override()\n",
    "import pandas_datareader.data as pdr"
   ]
  },
  {
   "cell_type": "markdown",
   "id": "d83b717d-a3ed-41bf-99f8-59972abae11c",
   "metadata": {},
   "source": [
    "### Select the tickers and timeframe"
   ]
  },
  {
   "cell_type": "code",
   "execution_count": 3,
   "id": "1fed9c64-651c-4bf3-a6cd-fba90850a842",
   "metadata": {},
   "outputs": [
    {
     "name": "stdout",
     "output_type": "stream",
     "text": [
      "[*********************100%***********************]  8 of 8 completed\n"
     ]
    },
    {
     "data": {
      "text/html": [
       "<div>\n",
       "<style scoped>\n",
       "    .dataframe tbody tr th:only-of-type {\n",
       "        vertical-align: middle;\n",
       "    }\n",
       "\n",
       "    .dataframe tbody tr th {\n",
       "        vertical-align: top;\n",
       "    }\n",
       "\n",
       "    .dataframe thead th {\n",
       "        text-align: right;\n",
       "    }\n",
       "</style>\n",
       "<table border=\"1\" class=\"dataframe\">\n",
       "  <thead>\n",
       "    <tr style=\"text-align: right;\">\n",
       "      <th></th>\n",
       "      <th>AAPL</th>\n",
       "      <th>GE</th>\n",
       "      <th>JPM</th>\n",
       "      <th>MMM</th>\n",
       "      <th>MSFT</th>\n",
       "      <th>NKE</th>\n",
       "      <th>NVDA</th>\n",
       "      <th>VOD</th>\n",
       "    </tr>\n",
       "    <tr>\n",
       "      <th>Date</th>\n",
       "      <th></th>\n",
       "      <th></th>\n",
       "      <th></th>\n",
       "      <th></th>\n",
       "      <th></th>\n",
       "      <th></th>\n",
       "      <th></th>\n",
       "      <th></th>\n",
       "    </tr>\n",
       "  </thead>\n",
       "  <tbody>\n",
       "    <tr>\n",
       "      <th>2016-12-29</th>\n",
       "      <td>27.268822</td>\n",
       "      <td>176.031265</td>\n",
       "      <td>72.110680</td>\n",
       "      <td>145.338196</td>\n",
       "      <td>57.795380</td>\n",
       "      <td>47.820923</td>\n",
       "      <td>27.464748</td>\n",
       "      <td>16.805735</td>\n",
       "    </tr>\n",
       "    <tr>\n",
       "      <th>2016-12-30</th>\n",
       "      <td>27.056240</td>\n",
       "      <td>175.420639</td>\n",
       "      <td>72.446495</td>\n",
       "      <td>145.468491</td>\n",
       "      <td>57.097046</td>\n",
       "      <td>47.605511</td>\n",
       "      <td>26.308779</td>\n",
       "      <td>16.737223</td>\n",
       "    </tr>\n",
       "  </tbody>\n",
       "</table>\n",
       "</div>"
      ],
      "text/plain": [
       "                 AAPL          GE        JPM         MMM       MSFT  \\\n",
       "Date                                                                  \n",
       "2016-12-29  27.268822  176.031265  72.110680  145.338196  57.795380   \n",
       "2016-12-30  27.056240  175.420639  72.446495  145.468491  57.097046   \n",
       "\n",
       "                  NKE       NVDA        VOD  \n",
       "Date                                         \n",
       "2016-12-29  47.820923  27.464748  16.805735  \n",
       "2016-12-30  47.605511  26.308779  16.737223  "
      ]
     },
     "execution_count": 3,
     "metadata": {},
     "output_type": "execute_result"
    }
   ],
   "source": [
    "tickers =  [\"AAPL\", \"GE\", \"JPM\", \"MSFT\", \"VOD\", \"NKE\", \"NVDA\", \"MMM\"]\n",
    "df = pdr.get_data_yahoo([tickers][0], start='2010-01-01', end=\"2017-01-01\")\n",
    "\n",
    "data = df.copy()\n",
    "# we copy the neighbour values to NaN entries\n",
    "data['Adj Close'] = data['Adj Close'].ffill()\n",
    "df = df.bfill(axis=1)\n",
    "data['Adj Close'] = data['Adj Close'].bfill()\n",
    "df = df.bfill(axis=1)\n",
    "\n",
    "data = data['Adj Close']\n",
    "data.head(2)\n",
    "data.tail(2)"
   ]
  },
  {
   "cell_type": "markdown",
   "id": "4cdde1f6-507f-40f7-beb3-72a09e245f77",
   "metadata": {},
   "source": [
    "### We check that there are no NAN values"
   ]
  },
  {
   "cell_type": "code",
   "execution_count": 4,
   "id": "c6b2fd8d-de4e-44f5-89f1-6077787634a9",
   "metadata": {},
   "outputs": [
    {
     "data": {
      "text/plain": [
       "AAPL    0\n",
       "GE      0\n",
       "JPM     0\n",
       "MMM     0\n",
       "MSFT    0\n",
       "NKE     0\n",
       "NVDA    0\n",
       "VOD     0\n",
       "dtype: int64"
      ]
     },
     "execution_count": 4,
     "metadata": {},
     "output_type": "execute_result"
    }
   ],
   "source": [
    "data.isna().sum()"
   ]
  },
  {
   "cell_type": "markdown",
   "id": "0f5ca931-acc8-4a04-a191-2627b24fc94d",
   "metadata": {},
   "source": [
    "### Check if all tickers have the same number of data points"
   ]
  },
  {
   "cell_type": "code",
   "execution_count": 5,
   "id": "d88ea485-ab32-41a9-bb3a-bca454ffa7a9",
   "metadata": {},
   "outputs": [
    {
     "data": {
      "text/html": [
       "<div>\n",
       "<style scoped>\n",
       "    .dataframe tbody tr th:only-of-type {\n",
       "        vertical-align: middle;\n",
       "    }\n",
       "\n",
       "    .dataframe tbody tr th {\n",
       "        vertical-align: top;\n",
       "    }\n",
       "\n",
       "    .dataframe thead th {\n",
       "        text-align: right;\n",
       "    }\n",
       "</style>\n",
       "<table border=\"1\" class=\"dataframe\">\n",
       "  <thead>\n",
       "    <tr style=\"text-align: right;\">\n",
       "      <th></th>\n",
       "      <th>0</th>\n",
       "      <th>1</th>\n",
       "    </tr>\n",
       "  </thead>\n",
       "  <tbody>\n",
       "    <tr>\n",
       "      <th>0</th>\n",
       "      <td>AAPL</td>\n",
       "      <td>1762</td>\n",
       "    </tr>\n",
       "    <tr>\n",
       "      <th>1</th>\n",
       "      <td>GE</td>\n",
       "      <td>1762</td>\n",
       "    </tr>\n",
       "    <tr>\n",
       "      <th>2</th>\n",
       "      <td>JPM</td>\n",
       "      <td>1762</td>\n",
       "    </tr>\n",
       "    <tr>\n",
       "      <th>3</th>\n",
       "      <td>MSFT</td>\n",
       "      <td>1762</td>\n",
       "    </tr>\n",
       "    <tr>\n",
       "      <th>4</th>\n",
       "      <td>VOD</td>\n",
       "      <td>1762</td>\n",
       "    </tr>\n",
       "  </tbody>\n",
       "</table>\n",
       "</div>"
      ],
      "text/plain": [
       "      0     1\n",
       "0  AAPL  1762\n",
       "1    GE  1762\n",
       "2   JPM  1762\n",
       "3  MSFT  1762\n",
       "4   VOD  1762"
      ]
     },
     "execution_count": 5,
     "metadata": {},
     "output_type": "execute_result"
    }
   ],
   "source": [
    "no_datasets = []\n",
    "for i in tickers:\n",
    "    no_data_points = len(data[i])\n",
    "    no_datasets.append((i,no_data_points))\n",
    "    data_points_df = pd.DataFrame(no_datasets)\n",
    "\n",
    "data_points_df.head()"
   ]
  },
  {
   "cell_type": "markdown",
   "id": "6e289868-9730-4a37-bb6a-9338a51e7ed1",
   "metadata": {},
   "source": [
    "### Define the start-end dates for the training and testing data"
   ]
  },
  {
   "cell_type": "code",
   "execution_count": 6,
   "id": "68467a28-b94f-4630-9eb3-b372ae0fabeb",
   "metadata": {},
   "outputs": [],
   "source": [
    "train_pct = 0.8\n",
    "samples_train = int(train_pct*len(data))\n",
    "data_train = data[:samples_train]\n",
    "data_test = data[samples_train:]"
   ]
  },
  {
   "cell_type": "code",
   "execution_count": 7,
   "id": "8364cd2d-cdc6-48fb-9b7e-1ed69bada617",
   "metadata": {},
   "outputs": [
    {
     "data": {
      "text/html": [
       "<div>\n",
       "<style scoped>\n",
       "    .dataframe tbody tr th:only-of-type {\n",
       "        vertical-align: middle;\n",
       "    }\n",
       "\n",
       "    .dataframe tbody tr th {\n",
       "        vertical-align: top;\n",
       "    }\n",
       "\n",
       "    .dataframe thead th {\n",
       "        text-align: right;\n",
       "    }\n",
       "</style>\n",
       "<table border=\"1\" class=\"dataframe\">\n",
       "  <thead>\n",
       "    <tr style=\"text-align: right;\">\n",
       "      <th></th>\n",
       "      <th>AAPL</th>\n",
       "      <th>GE</th>\n",
       "      <th>JPM</th>\n",
       "      <th>MMM</th>\n",
       "      <th>MSFT</th>\n",
       "      <th>NKE</th>\n",
       "      <th>NVDA</th>\n",
       "      <th>VOD</th>\n",
       "    </tr>\n",
       "    <tr>\n",
       "      <th>Date</th>\n",
       "      <th></th>\n",
       "      <th></th>\n",
       "      <th></th>\n",
       "      <th></th>\n",
       "      <th></th>\n",
       "      <th></th>\n",
       "      <th></th>\n",
       "      <th></th>\n",
       "    </tr>\n",
       "  </thead>\n",
       "  <tbody>\n",
       "    <tr>\n",
       "      <th>2015-08-10</th>\n",
       "      <td>27.241983</td>\n",
       "      <td>138.956421</td>\n",
       "      <td>55.778927</td>\n",
       "      <td>118.382942</td>\n",
       "      <td>41.768654</td>\n",
       "      <td>53.119572</td>\n",
       "      <td>5.759184</td>\n",
       "      <td>24.251312</td>\n",
       "    </tr>\n",
       "  </tbody>\n",
       "</table>\n",
       "</div>"
      ],
      "text/plain": [
       "                 AAPL          GE        JPM         MMM       MSFT  \\\n",
       "Date                                                                  \n",
       "2015-08-10  27.241983  138.956421  55.778927  118.382942  41.768654   \n",
       "\n",
       "                  NKE      NVDA        VOD  \n",
       "Date                                        \n",
       "2015-08-10  53.119572  5.759184  24.251312  "
      ]
     },
     "execution_count": 7,
     "metadata": {},
     "output_type": "execute_result"
    }
   ],
   "source": [
    "data_test.head(1)"
   ]
  },
  {
   "cell_type": "markdown",
   "id": "fe647c93-6210-4ab6-822a-f990d0244061",
   "metadata": {},
   "source": [
    "### Visualization"
   ]
  },
  {
   "cell_type": "code",
   "execution_count": 8,
   "id": "1ab496e6-273a-4835-88b7-86e19c841377",
   "metadata": {},
   "outputs": [
    {
     "data": {
      "image/png": "[encoded data removed]",
      "text/plain": [
       "<Figure size 720x432 with 1 Axes>"
      ]
     },
     "metadata": {
      "needs_background": "light"
     },
     "output_type": "display_data"
    }
   ],
   "source": [
    "plt.rcParams[\"figure.figsize\"] = (10,6)\n",
    "for i in tickers:\n",
    "    plt.plot(data[i], label=i)\n",
    "\n",
    "# only one line may be specified; full height\n",
    "plt.axvline(pd.to_datetime('2015-08-10'), color='black', linestyle='--', lw=2)\n",
    "plt.legend()\n",
    "plt.margins(x=0)\n",
    "plt.ylabel(\"Closing Share Prise (USD)\")\n",
    "plt.xlabel(\"Time (Years)\")\n",
    "plt.savefig('data0.png',bbox_inches='tight')"
   ]
  },
  {
   "cell_type": "markdown",
   "id": "139a3d0f-bff1-4824-ad54-a598469abd03",
   "metadata": {
    "heading_collapsed": true
   },
   "source": [
    "# -----------------------------------------------\n",
    "# ----------------------------------------------- "
   ]
  },
  {
   "cell_type": "markdown",
   "id": "8e58e706-bc59-4737-b6b8-c897e841c84c",
   "metadata": {},
   "source": [
    "# Evaluating models"
   ]
  },
  {
   "cell_type": "markdown",
   "id": "c4411112-dd70-4122-98ff-c272cd9d9d14",
   "metadata": {},
   "source": [
    "## Deep Reinfrocement Learning"
   ]
  },
  {
   "cell_type": "code",
   "execution_count": null,
   "id": "a97b16b2",
   "metadata": {},
   "outputs": [],
   "source": [
    "#!pip install deep-rl\n",
    "#!pip install stable-baselines3"
   ]
  },
  {
   "cell_type": "code",
   "execution_count": null,
   "id": "97038830-ebde-4ef9-85b7-84053e937a48",
   "metadata": {},
   "outputs": [],
   "source": [
    "import numpy as np\n",
    "import random\n",
    "from deepRL import StockEnvTrade, train, DRL_prediction\n",
    "from stable_baselines3.common.vec_env import DummyVecEnv"
   ]
  },
  {
   "cell_type": "code",
   "execution_count": null,
   "id": "064e9c5d-12f9-4469-8b19-d0849673283f",
   "metadata": {},
   "outputs": [],
   "source": [
    "rebalance_period = 1\n",
    "re_df = data.iloc[::rebalance_period, :]\n",
    "train_re_df = data_train.iloc[::rebalance_period, :]\n",
    "test_re_df = data_test.iloc[::rebalance_period, :]"
   ]
  },
  {
   "cell_type": "code",
   "execution_count": null,
   "id": "6c0f56e8-06a6-4904-9fe2-43dec1979249",
   "metadata": {},
   "outputs": [],
   "source": [
    "timesteps = 25000\n",
    "runs = 10\n",
    "policy = \"MlpPolicy\"\n",
    "length = test_re_df.shape[0]\n",
    "stocks = test_re_df.shape[1]"
   ]
  },
  {
   "cell_type": "markdown",
   "id": "834ac196-1165-41df-84f2-bf369b684640",
   "metadata": {},
   "source": [
    "### PPO"
   ]
  },
  {
   "cell_type": "code",
   "execution_count": null,
   "id": "97dedc46-878d-4a20-8d9b-da8d0b4f9716",
   "metadata": {},
   "outputs": [],
   "source": [
    "algo = \"PPO\"\n",
    "Cumulative_returns_daily_drl_ppo = np.zeros([runs, length])\n",
    "portfolio_weights_ppo = np.zeros([runs, length, stocks])\n",
    "\n",
    "i=0\n",
    "cont=0\n",
    "while (i<runs):\n",
    "\n",
    "    train_env = DummyVecEnv([lambda: StockEnvTrade(df = train_re_df)])\n",
    "    model = train(algo, policy, train_env, timesteps, seed=cont, save=False)\n",
    "\n",
    "    test_env = DummyVecEnv([lambda: StockEnvTrade(df = test_re_df)])\n",
    "    test_obs = test_env.reset()\n",
    "\n",
    "    portfolio_weights_ppo[i] = np.array(DRL_prediction(model, test_re_df, test_env, test_obs))\n",
    "    \n",
    "    check = np.sum(portfolio_weights_ppo[i])\n",
    "    cont = cont +1\n",
    "    if check != length:\n",
    "        continue\n",
    "\n",
    "    return_stocks = test_re_df.pct_change()\n",
    "    return_stocks_ppo = np.sum(return_stocks.multiply(portfolio_weights_ppo[i]),axis=1)\n",
    "    Cumulative_returns_daily_drl_ppo[i] = (1+return_stocks_ppo).cumprod()\n",
    "    i = i+1"
   ]
  },
  {
   "cell_type": "code",
   "execution_count": null,
   "id": "227fbb34-1904-4f01-8422-be17b55caf32",
   "metadata": {},
   "outputs": [],
   "source": [
    "fig, axs = plt.subplots(2, 2, figsize=(17,10),constrained_layout=True)\n",
    "\n",
    "ppo_mean = np.mean(np.array(Cumulative_returns_daily_drl_ppo),axis=0)\n",
    "ppo_std = np.std(np.array(Cumulative_returns_daily_drl_ppo),axis=0)\n",
    "\n",
    "axs[0,0].plot(test_re_df.index, ppo_mean, color='tab:blue', linewidth =2.0)\n",
    "axs[0,0].fill_between(test_re_df.index, ppo_mean - ppo_std, ppo_mean + ppo_std, alpha=0.2, color='tab:blue')\n",
    "axs[0,0].margins(x=0)\n",
    "axs[0,0].margins(y=0)\n",
    "axs[0,0].axhline(1, color='black', linestyle='--', lw=2)\n",
    "axs[0,0].set_ylabel(\"Cumulative Returns\")\n",
    "axs[0,0].set_xlabel(\"Time (Years-Months)\")\n",
    "\n",
    "portfolio_weights_ppo_ = np.mean(np.array(portfolio_weights_ppo),axis=0)\n",
    "df = pd.DataFrame (portfolio_weights_ppo_, index = test_re_df.index, columns = tickers)\n",
    "axs[0,1].stackplot(test_re_df.index, df['AAPL'], df['GE'], df['JPM'], df['MSFT'], df['VOD'], df['NKE'], df['NVDA'], df['MMM'], labels=tickers)\n",
    "axs[0,1].legend(loc='upper right')\n",
    "axs[0,1].margins(x=0)\n",
    "axs[0,1].margins(y=0)\n",
    "axs[0,1].set_ylabel(\"Weights (%)\")\n",
    "axs[0,1].set_xlabel(\"Time (Years-Months)\")\n",
    "\n",
    "portfolio_weights_ppo_ = portfolio_weights_ppo[np.argmax(Cumulative_returns_daily_drl_ppo[:,-1])]\n",
    "df = pd.DataFrame (portfolio_weights_ppo_, index = test_re_df.index, columns = tickers)\n",
    "axs[1,0].stackplot(test_re_df.index, df['AAPL'], df['GE'], df['JPM'], df['MSFT'], df['VOD'], df['NKE'], df['NVDA'], df['MMM'], labels=tickers)\n",
    "axs[1,0].margins(x=0)\n",
    "axs[1,0].margins(y=0)\n",
    "axs[1,0].set_ylabel(\"Weights (%)\")\n",
    "axs[1,0].set_xlabel(\"Time (Years-Months)\")\n",
    "\n",
    "portfolio_weights_ppo_ = portfolio_weights_ppo[np.argmin(Cumulative_returns_daily_drl_ppo[:,-1])]\n",
    "df = pd.DataFrame (portfolio_weights_ppo_, index = test_re_df.index, columns = tickers)\n",
    "axs[1,1].stackplot(test_re_df.index, df['AAPL'], df['GE'], df['JPM'], df['MSFT'], df['VOD'], df['NKE'], df['NVDA'], df['MMM'], labels=tickers)\n",
    "axs[1,1].margins(x=0)\n",
    "axs[1,1].margins(y=0)\n",
    "axs[1,1].set_ylabel(\"Weights (%)\")\n",
    "axs[1,1].set_xlabel(\"Time (Years-Months)\")\n",
    "\n",
    "plt.savefig(algo+'_'+str(timesteps)+'_'+str(rebalance_period)+'_drl0.png',bbox_inches='tight')"
   ]
  },
  {
   "cell_type": "markdown",
   "id": "75476b10-3025-417d-b9a4-69f494081e21",
   "metadata": {},
   "source": [
    "### A2C"
   ]
  },
  {
   "cell_type": "code",
   "execution_count": null,
   "id": "d8f448ae-6530-406c-ba96-27de81a841af",
   "metadata": {},
   "outputs": [],
   "source": [
    "algo = \"A2C\"\n",
    "Cumulative_returns_daily_drl_a2c = np.zeros([runs, length])\n",
    "portfolio_weights_a2c = np.zeros([runs, length, stocks])\n",
    "\n",
    "i=0\n",
    "cont=0\n",
    "while (i<runs):\n",
    "\n",
    "    train_env = DummyVecEnv([lambda: StockEnvTrade(df = train_re_df)])\n",
    "    model = train(algo, policy, train_env, timesteps, seed=cont, save=False)\n",
    "\n",
    "    test_env = DummyVecEnv([lambda: StockEnvTrade(df = test_re_df)])\n",
    "    test_obs = test_env.reset()\n",
    "\n",
    "    portfolio_weights_a2c[i] = np.array(DRL_prediction(model, test_re_df, test_env, test_obs))\n",
    "    \n",
    "    check = np.sum(portfolio_weights_a2c[i]) \n",
    "    cont = cont +1\n",
    "    if check != length:\n",
    "        continue\n",
    "\n",
    "    return_stocks = test_re_df.pct_change()\n",
    "    return_stocks_a2c = np.sum(return_stocks.multiply(portfolio_weights_a2c[i]),axis=1)\n",
    "    Cumulative_returns_daily_drl_a2c[i] = (1+return_stocks_a2c).cumprod()\n",
    "    i = i+1"
   ]
  },
  {
   "cell_type": "code",
   "execution_count": null,
   "id": "c43cfb76-1db6-472e-bab7-5c51ce825712",
   "metadata": {},
   "outputs": [],
   "source": [
    "fig, axs = plt.subplots(2, 2, figsize=(17,10),constrained_layout=True)\n",
    "\n",
    "a2c_mean = np.mean(np.array(Cumulative_returns_daily_drl_a2c),axis=0)\n",
    "a2c_std = np.std(np.array(Cumulative_returns_daily_drl_a2c),axis=0)\n",
    "\n",
    "axs[0,0].plot(test_re_df.index, a2c_mean, color='tab:blue', linewidth =2.0)\n",
    "axs[0,0].fill_between(test_re_df.index, a2c_mean - a2c_std, a2c_mean + a2c_std, alpha=0.2, color='tab:blue')\n",
    "axs[0,0].margins(x=0)\n",
    "axs[0,0].margins(y=0)\n",
    "axs[0,0].axhline(1, color='black', linestyle='--', lw=2)\n",
    "axs[0,0].set_ylabel(\"Cumulative Returns\")\n",
    "axs[0,0].set_xlabel(\"Time (Years-Months)\")\n",
    "\n",
    "portfolio_weights_a2c_ = np.mean(np.array(portfolio_weights_a2c),axis=0)\n",
    "df = pd.DataFrame (portfolio_weights_a2c_, index = test_re_df.index, columns = tickers)\n",
    "axs[0,1].stackplot(test_re_df.index, df['AAPL'], df['GE'], df['JPM'], df['MSFT'], df['VOD'], df['NKE'], df['NVDA'], df['MMM'], labels=tickers)\n",
    "axs[0,1].legend(loc='upper right')\n",
    "axs[0,1].margins(x=0)\n",
    "axs[0,1].margins(y=0)\n",
    "axs[0,1].set_ylabel(\"Weights (%)\")\n",
    "axs[0,1].set_xlabel(\"Time (Years-Months)\")\n",
    "\n",
    "portfolio_weights_a2c_ = portfolio_weights_a2c[np.argmax(Cumulative_returns_daily_drl_a2c[:,-1])]\n",
    "df = pd.DataFrame (portfolio_weights_a2c_, index = test_re_df.index, columns = tickers)\n",
    "axs[1,0].stackplot(test_re_df.index, df['AAPL'], df['GE'], df['JPM'], df['MSFT'], df['VOD'], df['NKE'], df['NVDA'], df['MMM'], labels=tickers)\n",
    "axs[1,0].margins(x=0)\n",
    "axs[1,0].margins(y=0)\n",
    "axs[1,0].set_ylabel(\"Weights (%)\")\n",
    "axs[1,0].set_xlabel(\"Time (Years-Months)\")\n",
    "\n",
    "portfolio_weights_a2c_ = portfolio_weights_a2c[np.argmin(Cumulative_returns_daily_drl_a2c[:,-1])]\n",
    "df = pd.DataFrame (portfolio_weights_a2c_, index = test_re_df.index, columns = tickers)\n",
    "axs[1,1].stackplot(test_re_df.index, df['AAPL'], df['GE'], df['JPM'], df['MSFT'], df['VOD'], df['NKE'], df['NVDA'], df['MMM'], labels=tickers)\n",
    "axs[1,1].margins(x=0)\n",
    "axs[1,1].margins(y=0)\n",
    "axs[1,1].set_ylabel(\"Weights (%)\")\n",
    "axs[1,1].set_xlabel(\"Time (Years-Months)\")\n",
    "\n",
    "plt.savefig(algo+'_'+str(timesteps)+'_'+str(rebalance_period)+'_drl0.png',bbox_inches='tight')"
   ]
  },
  {
   "cell_type": "markdown",
   "id": "a85938db-1064-48c8-9943-35cb903bc2f5",
   "metadata": {},
   "source": [
    "### DDPG"
   ]
  },
  {
   "cell_type": "code",
   "execution_count": null,
   "id": "67249a14-0a78-4df4-86de-35f9a2096271",
   "metadata": {},
   "outputs": [],
   "source": [
    "algo = \"DDPG\"\n",
    "Cumulative_returns_daily_drl_ddpg = np.zeros([runs, length])\n",
    "portfolio_weights_ddpg = np.zeros([runs, length, stocks])\n",
    "\n",
    "i=0\n",
    "cont=0\n",
    "while (i<runs):\n",
    "\n",
    "    train_env = DummyVecEnv([lambda: StockEnvTrade(df = train_re_df)])\n",
    "    model = train(algo, policy, train_env, timesteps, seed=cont, save=False)\n",
    "\n",
    "    test_env = DummyVecEnv([lambda: StockEnvTrade(df = test_re_df)])\n",
    "    test_obs = test_env.reset()\n",
    "\n",
    "    portfolio_weights_ddpg[i] = np.array(DRL_prediction(model, test_re_df, test_env, test_obs))\n",
    "    \n",
    "    check = np.sum(portfolio_weights_ddpg[i]) \n",
    "    cont = cont +1\n",
    "    if check != length:\n",
    "        continue\n",
    "\n",
    "    return_stocks = test_re_df.pct_change()\n",
    "    return_stocks_ddpg = np.sum(return_stocks.multiply(portfolio_weights_ddpg[i]),axis=1)\n",
    "    Cumulative_returns_daily_drl_ddpg[i] = (1+return_stocks_ddpg).cumprod()\n",
    "    i = i+1"
   ]
  },
  {
   "cell_type": "code",
   "execution_count": null,
   "id": "4784c109-ed64-4df8-bbb9-aad49dd1c2ae",
   "metadata": {},
   "outputs": [],
   "source": [
    "fig, axs = plt.subplots(2, 2, figsize=(17,10),constrained_layout=True)\n",
    "\n",
    "ddpg_mean = np.mean(np.array(Cumulative_returns_daily_drl_ddpg),axis=0)\n",
    "ddpg_std = np.std(np.array(Cumulative_returns_daily_drl_ddpg),axis=0)\n",
    "\n",
    "axs[0,0].plot(test_re_df.index, ddpg_mean, color='tab:blue', linewidth =2.0)\n",
    "axs[0,0].fill_between(test_re_df.index, ddpg_mean - ddpg_std, ddpg_mean + ddpg_std, alpha=0.2, color='tab:blue')\n",
    "axs[0,0].margins(x=0)\n",
    "axs[0,0].margins(y=0)\n",
    "axs[0,0].axhline(1, color='black', linestyle='--', lw=2)\n",
    "axs[0,0].set_ylabel(\"Cumulative Returns\")\n",
    "axs[0,0].set_xlabel(\"Time (Years-Months)\")\n",
    "\n",
    "portfolio_weights_ddgpc_ = np.mean(np.array(portfolio_weights_ddpg),axis=0)\n",
    "df = pd.DataFrame (portfolio_weights_ddgpc_, index = test_re_df.index, columns = tickers)\n",
    "axs[0,1].stackplot(test_re_df.index, df['AAPL'], df['GE'], df['JPM'], df['MSFT'], df['VOD'], df['NKE'], df['NVDA'], df['MMM'], labels=tickers)\n",
    "axs[0,1].legend(loc='upper right')\n",
    "axs[0,1].margins(x=0)\n",
    "axs[0,1].margins(y=0)\n",
    "axs[0,1].set_ylabel(\"Weights (%)\")\n",
    "axs[0,1].set_xlabel(\"Time (Years-Months)\")\n",
    "\n",
    "portfolio_weights_ddgpc_ = portfolio_weights_ddpg[np.argmax(Cumulative_returns_daily_drl_ddpg[:,-1])]\n",
    "df = pd.DataFrame (portfolio_weights_ddgpc_, index = test_re_df.index, columns = tickers)\n",
    "axs[1,0].stackplot(test_re_df.index, df['AAPL'], df['GE'], df['JPM'], df['MSFT'], df['VOD'], df['NKE'], df['NVDA'], df['MMM'], labels=tickers)\n",
    "axs[1,0].margins(x=0)\n",
    "axs[1,0].margins(y=0)\n",
    "axs[1,0].set_ylabel(\"Weights (%)\")\n",
    "axs[1,0].set_xlabel(\"Time (Years-Months)\")\n",
    "\n",
    "portfolio_weights_ddgpc_ = portfolio_weights_ddpg[np.argmin(Cumulative_returns_daily_drl_ddpg[:,-1])]\n",
    "df = pd.DataFrame (portfolio_weights_ddgpc_, index = test_re_df.index, columns = tickers)\n",
    "axs[1,1].stackplot(test_re_df.index, df['AAPL'], df['GE'], df['JPM'], df['MSFT'], df['VOD'], df['NKE'], df['NVDA'], df['MMM'], labels=tickers)\n",
    "axs[1,1].margins(x=0)\n",
    "axs[1,1].margins(y=0)\n",
    "axs[1,1].set_ylabel(\"Weights (%)\")\n",
    "axs[1,1].set_xlabel(\"Time (Years-Months)\")\n",
    "\n",
    "plt.savefig(algo+'_'+str(timesteps)+'_'+str(rebalance_period)+'_drl0.png',bbox_inches='tight')"
   ]
  },
  {
   "cell_type": "markdown",
   "id": "abed8f9e-b298-4a27-b987-0a28495ade13",
   "metadata": {},
   "source": [
    "### SAC"
   ]
  },
  {
   "cell_type": "code",
   "execution_count": null,
   "id": "688813a1-5185-4ed9-af7c-baa4f5dad4dd",
   "metadata": {},
   "outputs": [],
   "source": [
    "algo = \"SAC\"\n",
    "Cumulative_returns_daily_drl_sac = np.zeros([runs, length])\n",
    "portfolio_weights_sac = np.zeros([runs, length, stocks])\n",
    "\n",
    "i=0\n",
    "cont=0\n",
    "while (i<runs):\n",
    "\n",
    "    train_env = DummyVecEnv([lambda: StockEnvTrade(df = train_re_df)])\n",
    "    model = train(algo, policy, train_env, timesteps, seed=cont, save=False)\n",
    "\n",
    "    test_env = DummyVecEnv([lambda: StockEnvTrade(df = test_re_df)])\n",
    "    test_obs = test_env.reset()\n",
    "\n",
    "    portfolio_weights_sac[i] = np.array(DRL_prediction(model, test_re_df, test_env, test_obs))\n",
    "    \n",
    "    check = np.sum(portfolio_weights_sac[i]) \n",
    "    cont = cont +1\n",
    "    if check != length:\n",
    "        continue\n",
    "    \n",
    "    return_stocks = test_re_df.pct_change()\n",
    "    return_stocks_sac = np.sum(return_stocks.multiply(portfolio_weights_sac[i]),axis=1)\n",
    "    Cumulative_returns_daily_drl_sac[i] = (1+return_stocks_sac).cumprod()\n",
    "    i = i+1"
   ]
  },
  {
   "cell_type": "code",
   "execution_count": null,
   "id": "52d268a2-1f44-4d7d-bfcc-a44c6add7121",
   "metadata": {},
   "outputs": [],
   "source": [
    "fig, axs = plt.subplots(2, 2, figsize=(17,10),constrained_layout=True)\n",
    "\n",
    "sac_mean = np.mean(np.array(Cumulative_returns_daily_drl_sac),axis=0)\n",
    "sac_std = np.std(np.array(Cumulative_returns_daily_drl_sac),axis=0)\n",
    "\n",
    "axs[0,0].plot(test_re_df.index, sac_mean, color='tab:blue', linewidth =2.0)\n",
    "axs[0,0].fill_between(test_re_df.index, sac_mean - sac_std, sac_mean + sac_std, alpha=0.2, color='tab:blue')\n",
    "axs[0,0].margins(x=0)\n",
    "axs[0,0].margins(y=0)\n",
    "axs[0,0].axhline(1, color='black', linestyle='--', lw=2)\n",
    "axs[0,0].set_ylabel(\"Cumulative Returns\")\n",
    "axs[0,0].set_xlabel(\"Time (Years-Months)\")\n",
    "\n",
    "portfolio_weights_sac_ = np.mean(np.array(portfolio_weights_sac),axis=0)\n",
    "df = pd.DataFrame (portfolio_weights_sac_, index = test_re_df.index, columns = tickers)\n",
    "axs[0,1].stackplot(test_re_df.index, df['AAPL'], df['GE'], df['JPM'], df['MSFT'], df['VOD'], df['NKE'], df['NVDA'], df['MMM'], labels=tickers)\n",
    "axs[0,1].legend(loc='upper right')\n",
    "axs[0,1].margins(x=0)\n",
    "axs[0,1].margins(y=0)\n",
    "axs[0,1].set_ylabel(\"Weights (%)\")\n",
    "axs[0,1].set_xlabel(\"Time (Years-Months)\")\n",
    "\n",
    "portfolio_weights_sac_ = portfolio_weights_sac[np.argmax(Cumulative_returns_daily_drl_sac[:,-1])]\n",
    "df = pd.DataFrame (portfolio_weights_sac_, index = test_re_df.index, columns = tickers)\n",
    "axs[1,0].stackplot(test_re_df.index, df['AAPL'], df['GE'], df['JPM'], df['MSFT'], df['VOD'], df['NKE'], df['NVDA'], df['MMM'], labels=tickers)\n",
    "axs[1,0].margins(x=0)\n",
    "axs[1,0].margins(y=0)\n",
    "axs[1,0].set_ylabel(\"Weights (%)\")\n",
    "axs[1,0].set_xlabel(\"Time (Years-Months)\")\n",
    "\n",
    "portfolio_weights_sac_ = portfolio_weights_sac[np.argmin(Cumulative_returns_daily_drl_sac[:,-1])]\n",
    "df = pd.DataFrame (portfolio_weights_sac_, index = test_re_df.index, columns = tickers)\n",
    "axs[1,1].stackplot(test_re_df.index, df['AAPL'], df['GE'], df['JPM'], df['MSFT'], df['VOD'], df['NKE'], df['NVDA'], df['MMM'], labels=tickers)\n",
    "axs[1,1].margins(x=0)\n",
    "axs[1,1].margins(y=0)\n",
    "axs[1,1].set_ylabel(\"Weights (%)\")\n",
    "axs[1,1].set_xlabel(\"Time (Years-Months)\")\n",
    "\n",
    "plt.savefig(algo+'_'+str(timesteps)+'_'+str(rebalance_period)+'_drl0.png',bbox_inches='tight')"
   ]
  },
  {
   "cell_type": "markdown",
   "id": "126a1679-0caa-43da-8217-4f133a3b4c78",
   "metadata": {},
   "source": [
    "### TD3"
   ]
  },
  {
   "cell_type": "code",
   "execution_count": null,
   "id": "e04f497f-facc-4fc3-8ec4-f48df8a1c510",
   "metadata": {},
   "outputs": [],
   "source": [
    "algo = \"TD3\"\n",
    "Cumulative_returns_daily_drl_td3 = np.zeros([runs, length])\n",
    "portfolio_weights_td3 = np.zeros([runs, length, stocks])\n",
    "\n",
    "i=0\n",
    "cont=0\n",
    "while (i<runs):\n",
    "\n",
    "    train_env = DummyVecEnv([lambda: StockEnvTrade(df = train_re_df)])\n",
    "    model = train(algo, policy, train_env, timesteps, seed=cont, save=False)\n",
    "\n",
    "    test_env = DummyVecEnv([lambda: StockEnvTrade(df = test_re_df)])\n",
    "    test_obs = test_env.reset()\n",
    "\n",
    "    portfolio_weights_td3[i] = np.array(DRL_prediction(model, test_re_df, test_env, test_obs))\n",
    "    \n",
    "    check = np.sum(portfolio_weights_td3[i])\n",
    "    cont = cont +1\n",
    "    if check != length:\n",
    "        continue\n",
    "\n",
    "    return_stocks = test_re_df.pct_change()\n",
    "    return_stocks_td3 = np.sum(return_stocks.multiply(portfolio_weights_td3[i]),axis=1)\n",
    "    Cumulative_returns_daily_drl_td3[i] = (1+return_stocks_td3).cumprod()\n",
    "    i = i+1"
   ]
  },
  {
   "cell_type": "code",
   "execution_count": null,
   "id": "6c685d71-40be-4821-9a58-c043e3581b35",
   "metadata": {},
   "outputs": [],
   "source": [
    "fig, axs = plt.subplots(2, 2, figsize=(17,10),constrained_layout=True)\n",
    "\n",
    "td3_mean = np.mean(np.array(Cumulative_returns_daily_drl_td3),axis=0)\n",
    "td3_std = np.std(np.array(Cumulative_returns_daily_drl_td3),axis=0)\n",
    "\n",
    "axs[0,0].plot(test_re_df.index, td3_mean, color='tab:blue', linewidth =2.0)\n",
    "axs[0,0].fill_between(test_re_df.index, td3_mean - td3_std, td3_mean + td3_std, alpha=0.2, color='tab:blue')\n",
    "axs[0,0].margins(x=0)\n",
    "axs[0,0].margins(y=0)\n",
    "axs[0,0].axhline(1, color='black', linestyle='--', lw=2)\n",
    "axs[0,0].set_ylabel(\"Cumulative Returns\")\n",
    "axs[0,0].set_xlabel(\"Time (Years-Months)\")\n",
    "\n",
    "portfolio_weights_td3_ = np.mean(np.array(portfolio_weights_td3),axis=0)\n",
    "df = pd.DataFrame (portfolio_weights_td3_, index = test_re_df.index, columns = tickers)\n",
    "axs[0,1].stackplot(test_re_df.index, df['AAPL'], df['GE'], df['JPM'], df['MSFT'], df['VOD'], df['NKE'], df['NVDA'], df['MMM'], labels=tickers)\n",
    "axs[0,1].legend(loc='upper right')\n",
    "axs[0,1].margins(x=0)\n",
    "axs[0,1].margins(y=0)\n",
    "axs[0,1].set_ylabel(\"Weights (%)\")\n",
    "axs[0,1].set_xlabel(\"Time (Years-Months)\")\n",
    "\n",
    "portfolio_weights_td3_ = portfolio_weights_td3[np.argmax(Cumulative_returns_daily_drl_td3[:,-1])]\n",
    "df = pd.DataFrame (portfolio_weights_td3_, index = test_re_df.index, columns = tickers)\n",
    "axs[1,0].stackplot(test_re_df.index, df['AAPL'], df['GE'], df['JPM'], df['MSFT'], df['VOD'], df['NKE'], df['NVDA'], df['MMM'], labels=tickers)\n",
    "axs[1,0].margins(x=0)\n",
    "axs[1,0].margins(y=0)\n",
    "axs[1,0].set_ylabel(\"Weights (%)\")\n",
    "axs[1,0].set_xlabel(\"Time (Years-Months)\")\n",
    "\n",
    "portfolio_weights_td3_ = portfolio_weights_td3[np.argmin(Cumulative_returns_daily_drl_td3[:,-1])]\n",
    "df = pd.DataFrame (portfolio_weights_td3_, index = test_re_df.index, columns = tickers)\n",
    "axs[1,1].stackplot(test_re_df.index, df['AAPL'], df['GE'], df['JPM'], df['MSFT'], df['VOD'], df['NKE'], df['NVDA'], df['MMM'], labels=tickers)\n",
    "axs[1,1].margins(x=0)\n",
    "axs[1,1].margins(y=0)\n",
    "axs[1,1].set_ylabel(\"Weights (%)\")\n",
    "axs[1,1].set_xlabel(\"Time (Years-Months)\")\n",
    "\n",
    "plt.savefig(algo+'_'+str(timesteps)+'_'+str(rebalance_period)+'_drl0.png',bbox_inches='tight')"
   ]
  },
  {
   "cell_type": "markdown",
   "id": "450ea289-398c-4784-8b1a-fc6ba06b6daa",
   "metadata": {},
   "source": [
    "## Traditional approaches"
   ]
  },
  {
   "cell_type": "code",
   "execution_count": null,
   "id": "5d2dd8a2-4919-436c-ad2d-8e0b62465532",
   "metadata": {},
   "outputs": [],
   "source": [
    "from pypfopt.efficient_frontier import EfficientFrontier\n",
    "from pypfopt import risk_models, expected_returns, objective_functions\n",
    "import numpy as np\n",
    "import pandas as pd\n",
    "import matplotlib.pyplot as plt\n",
    "import riskfolio as rp"
   ]
  },
  {
   "cell_type": "code",
   "execution_count": null,
   "id": "6f392783-c669-47fb-8b32-b0fac74b28f2",
   "metadata": {},
   "outputs": [],
   "source": [
    "# working days in a year 252\n",
    "window = 50\n",
    "start = len(train_re_df)-window\n",
    "data = re_df.iloc[start:]\n",
    "data = data.reset_index(drop=True)"
   ]
  },
  {
   "cell_type": "markdown",
   "id": "8244ab1e-7505-456a-8c32-42ccae3a08f6",
   "metadata": {},
   "source": [
    "### Min-Variance Portfolio Allocation"
   ]
  },
  {
   "cell_type": "code",
   "execution_count": null,
   "id": "86953e9b-53a6-4801-8f1b-b0d34f0e03e2",
   "metadata": {},
   "outputs": [],
   "source": [
    "portfolio_weights_min_var = np.zeros([test_re_df.shape[0], len(tickers)])\n",
    "\n",
    "idx=0\n",
    "for i in range(portfolio_weights_min_var.shape[0]):    \n",
    "    sel = data.iloc[i:window+i]\n",
    "    \n",
    "    mu = expected_returns.mean_historical_return(sel)\n",
    "    S = risk_models.sample_cov(sel)\n",
    "\n",
    "    # optimize for max sharpe ratio\n",
    "    ef = EfficientFrontier(mu, S)\n",
    "    \n",
    "    try:\n",
    "        weights = ef.max_sharpe()\n",
    "    except:\n",
    "        weights = ef.nonconvex_objective(\n",
    "            objective_functions.sharpe_ratio,\n",
    "            objective_args=(ef.expected_returns, ef.cov_matrix),\n",
    "            weights_sum_to_one=True,\n",
    "        )\n",
    "\n",
    "    portfolio_weights_min_var[idx]=np.array([weights[j] for j in tickers])\n",
    "    idx +=1"
   ]
  },
  {
   "cell_type": "code",
   "execution_count": null,
   "id": "a14d963e-1bea-4012-8a49-94f28deac043",
   "metadata": {},
   "outputs": [],
   "source": [
    "return_stocks = test_re_df.pct_change()\n",
    "return_stocks_min_var = np.sum(return_stocks.multiply(portfolio_weights_min_var),axis=1)\n",
    "Cumulative_returns_daily_min_var = (1+return_stocks_min_var).cumprod()\n",
    "plt.plot(Cumulative_returns_daily_min_var)\n",
    "plt.axhline(1, color='black', linestyle='--', lw=2)\n",
    "plt.ylabel(\"Cumulative Returns\")\n",
    "plt.xlabel(\"Time (Years-Months)\")"
   ]
  },
  {
   "cell_type": "code",
   "execution_count": null,
   "id": "2587ede1-4f5b-46a0-a0fe-f8845a348fa1",
   "metadata": {},
   "outputs": [],
   "source": [
    "df = pd.DataFrame (portfolio_weights_min_var, index = test_re_df.index, columns = tickers)\n",
    "plt.stackplot(test_re_df.index, df['AAPL'], df['GE'], df['JPM'], df['MSFT'], df['VOD'], df['NKE'], df['NVDA'], df['MMM'], labels=tickers)\n",
    "plt.legend(loc='upper right')\n",
    "plt.margins(x=0)\n",
    "plt.margins(y=0)\n",
    "plt.xlabel(\"Time (Years-Months)\")"
   ]
  },
  {
   "cell_type": "markdown",
   "id": "e5e766c4-3034-4887-b9ca-8138acd1f397",
   "metadata": {},
   "source": [
    "### Min volatility"
   ]
  },
  {
   "cell_type": "code",
   "execution_count": null,
   "id": "e66550e9-a3b8-4b27-af26-858d6bf17795",
   "metadata": {},
   "outputs": [],
   "source": [
    "portfolio_weights_min_vol = np.zeros([test_re_df.shape[0], len(tickers)])\n",
    "\n",
    "idx=0\n",
    "for i in range(portfolio_weights_min_vol.shape[0]):    \n",
    "    sel = data.iloc[i:window+i]\n",
    "    \n",
    "    mu = expected_returns.mean_historical_return(sel)\n",
    "    S = risk_models.sample_cov(sel)\n",
    "\n",
    "    # optimize for max sharpe ratio\n",
    "    ef = EfficientFrontier(mu, S)  \n",
    "    weights = ef.min_volatility() \n",
    "   \n",
    "    portfolio_weights_min_vol[idx]=np.array([weights[j] for j in tickers])\n",
    "    idx +=1"
   ]
  },
  {
   "cell_type": "code",
   "execution_count": null,
   "id": "ee278dcb-5733-4c7c-b365-aec95ff64dd3",
   "metadata": {},
   "outputs": [],
   "source": [
    "return_stocks_min_vol = np.sum(return_stocks.multiply(portfolio_weights_min_vol),axis=1)\n",
    "Cumulative_returns_daily_min_vol = (1+return_stocks_min_vol).cumprod()\n",
    "plt.plot(Cumulative_returns_daily_min_vol)\n",
    "plt.axhline(1, color='black', linestyle='--', lw=2)\n",
    "plt.ylabel(\"Cumulative Returns\")\n",
    "plt.xlabel(\"Time (Years-Months)\")"
   ]
  },
  {
   "cell_type": "code",
   "execution_count": null,
   "id": "16267b48-7fb3-446b-b70b-1e1d25a5288c",
   "metadata": {},
   "outputs": [],
   "source": [
    "df = pd.DataFrame (portfolio_weights_min_vol, index = test_re_df.index, columns = tickers)\n",
    "plt.stackplot(test_re_df.index, df['AAPL'], df['GE'], df['JPM'], df['MSFT'], df['VOD'], df['NKE'], df['NVDA'], df['MMM'], labels=tickers)\n",
    "plt.legend(loc='upper right')\n",
    "plt.margins(x=0)\n",
    "plt.margins(y=0)\n",
    "plt.xlabel(\"Time (Years-Months)\")"
   ]
  },
  {
   "cell_type": "markdown",
   "id": "2a899912-0b62-40db-8d0f-6b7d79f28a75",
   "metadata": {},
   "source": [
    "### Risk Parity"
   ]
  },
  {
   "cell_type": "code",
   "execution_count": null,
   "id": "00bcd1fb-6f3d-42b1-8f45-61cb1750af1f",
   "metadata": {},
   "outputs": [],
   "source": [
    "portfolio_weights_risk = np.zeros([test_re_df.shape[0], len(tickers)])\n",
    "\n",
    "idx=0\n",
    "for i in range(portfolio_weights_risk.shape[0]):    \n",
    "    sel = data.iloc[i:window+i]\n",
    "   \n",
    "    # Building the portfolio object\n",
    "    port = rp.Portfolio(returns=sel)\n",
    "\n",
    "    # Calculating optimal portfolio\n",
    "    # Select method and estimate input parameters:\n",
    "    method_mu='hist' # Method to estimate expected returns based on historical data.\n",
    "    method_cov='hist' # Method to estimate covariance matrix based on historical data.\n",
    "\n",
    "    port.assets_stats(method_mu=method_mu, method_cov=method_cov, d=0.94)\n",
    "\n",
    "    model='Classic' # Could be Classic (historical) or FM (Factor Model)\n",
    "    rm = 'MV' # Risk measure used, this time will be variance\n",
    "    hist = True # Use historical scenarios for risk measures that depend on scenarios\n",
    "    rf = 0 # Risk free rate\n",
    "    b = None # Risk contribution constraints vector\n",
    "    weights = port.rp_optimization(model=model, rm=rm, rf=rf, b=b, hist=hist)\n",
    "   \n",
    "    portfolio_weights_risk[idx]=np.squeeze(np.array(weights))\n",
    "    idx +=1  "
   ]
  },
  {
   "cell_type": "code",
   "execution_count": null,
   "id": "cab0bc82-376d-4553-bde8-6aefb9ecf4e3",
   "metadata": {},
   "outputs": [],
   "source": [
    "return_stocks = test_re_df.pct_change()\n",
    "return_stocks_risk = np.sum(return_stocks.multiply(portfolio_weights_risk),axis=1)\n",
    "Cumulative_returns_daily_risk = (1+return_stocks_risk).cumprod()\n",
    "plt.plot(Cumulative_returns_daily_risk)\n",
    "plt.axhline(1, color='black', linestyle='--', lw=2)\n",
    "plt.ylabel(\"Cumulative Returns\")\n",
    "plt.xlabel(\"Time (Years-Months)\")"
   ]
  },
  {
   "cell_type": "code",
   "execution_count": null,
   "id": "a912a9b1-9695-4f3b-bb85-b67f2df0fdf8",
   "metadata": {},
   "outputs": [],
   "source": [
    "df = pd.DataFrame (portfolio_weights_risk, index = test_re_df.index, columns = tickers)\n",
    "plt.stackplot(test_re_df.index, df['AAPL'], df['GE'], df['JPM'], df['MSFT'], df['VOD'], df['NKE'], df['NVDA'], df['MMM'], labels=tickers)\n",
    "plt.legend(loc='upper right')\n",
    "plt.margins(x=0)\n",
    "plt.margins(y=0)\n",
    "plt.xlabel(\"Time (Years-Months)\")"
   ]
  },
  {
   "cell_type": "markdown",
   "id": "2811ebf0-6648-4c30-b4b3-ae653ea9573f",
   "metadata": {},
   "source": [
    "### Equal weighting"
   ]
  },
  {
   "cell_type": "code",
   "execution_count": null,
   "id": "53c7385b-8f66-4797-a641-116fcb75025a",
   "metadata": {},
   "outputs": [],
   "source": [
    "portfolio_weights_equal = np.ones([test_re_df.shape[0],test_re_df.shape[1]])/test_re_df.shape[1]"
   ]
  },
  {
   "cell_type": "code",
   "execution_count": null,
   "id": "7e1fee9d-926e-44fe-b3d8-e24e47b06990",
   "metadata": {},
   "outputs": [],
   "source": [
    "return_stocks = test_re_df.pct_change()\n",
    "return_stocks_equal = np.sum(return_stocks.multiply(portfolio_weights_equal),axis=1)\n",
    "Cumulative_returns_daily_equal = (1+return_stocks_equal).cumprod()\n",
    "plt.plot(Cumulative_returns_daily_equal)\n",
    "plt.axhline(1, color='black', linestyle='--', lw=2)\n",
    "plt.ylabel(\"Cumulative Returns\")\n",
    "plt.xlabel(\"Time (Years-Months)\")"
   ]
  },
  {
   "cell_type": "code",
   "execution_count": null,
   "id": "a9284116-74fa-49df-bda0-12223f4d6466",
   "metadata": {},
   "outputs": [],
   "source": [
    "df = pd.DataFrame (portfolio_weights_equal, index = test_re_df.index, columns = tickers)\n",
    "plt.stackplot(test_re_df.index, df['AAPL'], df['GE'], df['JPM'], df['MSFT'], df['VOD'], df['NKE'], df['NVDA'], df['MMM'], labels=tickers)\n",
    "plt.legend(loc='upper right')\n",
    "plt.margins(x=0)\n",
    "plt.margins(y=0)\n",
    "plt.xlabel(\"Time (Years-Months)\")"
   ]
  },
  {
   "cell_type": "code",
   "execution_count": null,
   "id": "f405365b-5e89-46bd-bd74-8d5be5329e9d",
   "metadata": {},
   "outputs": [],
   "source": [
    "fig, axs = plt.subplots(2, 2, figsize=(17,10),constrained_layout=True)\n",
    "\n",
    "df = pd.DataFrame (portfolio_weights_min_var, index = test_re_df.index, columns = tickers)\n",
    "axs[0,0].stackplot(test_re_df.index, df['AAPL'], df['GE'], df['JPM'], df['MSFT'], df['VOD'], df['NKE'], df['NVDA'], df['MMM'])\n",
    "axs[0,0].margins(x=0)\n",
    "axs[0,0].margins(y=0)\n",
    "axs[0,0].set_ylabel(\"Weights (%)\")\n",
    "axs[0,0].set_xlabel(\"Time (Years-Months)\")\n",
    "\n",
    "df = pd.DataFrame (portfolio_weights_min_vol, index = test_re_df.index, columns = tickers)\n",
    "axs[0,1].stackplot(test_re_df.index, df['AAPL'], df['GE'], df['JPM'], df['MSFT'], df['VOD'], df['NKE'], df['NVDA'], df['MMM'], labels=tickers)\n",
    "axs[0,1].legend(loc='upper right')\n",
    "axs[0,1].margins(x=0)\n",
    "axs[0,1].margins(y=0)\n",
    "axs[0,1].set_ylabel(\"Weights (%)\")\n",
    "axs[0,1].set_xlabel(\"Time (Years-Months)\")\n",
    "\n",
    "df = pd.DataFrame (portfolio_weights_risk, index = test_re_df.index, columns = tickers)\n",
    "axs[1,0].stackplot(test_re_df.index, df['AAPL'], df['GE'], df['JPM'], df['MSFT'], df['VOD'], df['NKE'], df['NVDA'], df['MMM'])\n",
    "axs[1,0].margins(x=0)\n",
    "axs[1,0].margins(y=0)\n",
    "axs[1,0].set_ylabel(\"Weights (%)\")\n",
    "axs[1,0].set_xlabel(\"Time (Years-Months)\")\n",
    "\n",
    "df = pd.DataFrame (portfolio_weights_equal, index = test_re_df.index, columns = tickers)\n",
    "axs[1,1].stackplot(test_re_df.index, df['AAPL'], df['GE'], df['JPM'], df['MSFT'], df['VOD'], df['NKE'], df['NVDA'], df['MMM'])\n",
    "axs[1,1].margins(x=0)\n",
    "axs[1,1].margins(y=0)\n",
    "axs[1,1].set_ylabel(\"Weights (%)\")\n",
    "axs[1,1].set_xlabel(\"Time (Years-Months)\")\n",
    "\n",
    "\n",
    "plt.savefig('traditional0.png',bbox_inches='tight')"
   ]
  },
  {
   "cell_type": "markdown",
   "id": "4ab3227f-3585-4f15-bcff-4167117e9a60",
   "metadata": {},
   "source": [
    "## Plotting all cumulative returns mtogether"
   ]
  },
  {
   "cell_type": "code",
   "execution_count": null,
   "id": "a2ab3aa7-1031-49b0-ae90-2af762ed462b",
   "metadata": {},
   "outputs": [],
   "source": [
    "x = Cumulative_returns_daily_equal.index.values\n",
    "\n",
    "plt.plot(x, Cumulative_returns_daily_min_var, color='tab:olive', label=\"Tangent Portfolio\", linewidth =2.0)\n",
    "plt.plot(x, Cumulative_returns_daily_min_vol, color='tab:gray', label=\"Minimum Volatility\", linewidth =2.0)\n",
    "plt.plot(x, Cumulative_returns_daily_risk, color='tab:green', label=\"Risk Parity\", linewidth =2.0)\n",
    "plt.plot(x, Cumulative_returns_daily_equal, color='tab:red', label=\"Equal Weight\", linewidth =2.0)\n",
    "\n",
    "a2c = Cumulative_returns_daily_drl_a2c[np.argmax(Cumulative_returns_daily_drl_a2c[:,-1])]\n",
    "plt.plot(x, a2c, color='tab:brown', label='A2C', linewidth =2.0)\n",
    "ppo = Cumulative_returns_daily_drl_ppo[np.argmax(Cumulative_returns_daily_drl_ppo[:,-1])]\n",
    "plt.plot(x, ppo, color='tab:purple', label='PPO', linewidth =2.0)\n",
    "ddpg = Cumulative_returns_daily_drl_ddpg[np.argmax(Cumulative_returns_daily_drl_ddpg[:,-1])]\n",
    "plt.plot(x, ddpg, color='tab:pink', label='DDPG', linewidth =2.0)\n",
    "sac = Cumulative_returns_daily_drl_sac[np.argmax(Cumulative_returns_daily_drl_sac[:,-1])]\n",
    "plt.plot(x, sac, color='tab:orange', label='SAC', linewidth =2.0)\n",
    "td3 = Cumulative_returns_daily_drl_td3[np.argmax(Cumulative_returns_daily_drl_td3[:,-1])]\n",
    "plt.plot(x, td3, color='tab:blue', label='TD3', linewidth =2.0)\n",
    "\n",
    "plt.axhline(1, color='black', linestyle='--', linewidth =2.0)\n",
    "plt.margins(x=0)\n",
    "plt.ylabel(\"Cumulative Returns\")\n",
    "plt.xlabel(\"Time (Years-Months)\")\n",
    "plt.legend()\n",
    "plt.savefig(str(rebalance_period)+'_cumulative_returns_max0.png',bbox_inches='tight')"
   ]
  },
  {
   "cell_type": "code",
   "execution_count": null,
   "id": "0e0f89da-1faa-4ab3-8d74-9d60c1486173",
   "metadata": {},
   "outputs": [],
   "source": [
    "x = Cumulative_returns_daily_equal.index.values\n",
    "\n",
    "plt.plot(x, Cumulative_returns_daily_min_var, color='tab:olive', label=\"Tangent Portfolio\", linewidth =2.0)\n",
    "plt.plot(x, Cumulative_returns_daily_min_vol, color='tab:gray', label=\"Minimum Volatility\", linewidth =2.0)\n",
    "plt.plot(x, Cumulative_returns_daily_risk, color='tab:green', label=\"Risk Parity\", linewidth =2.0)\n",
    "plt.plot(x, Cumulative_returns_daily_equal, color='tab:red', label=\"Equal Weight\", linewidth =2.0)\n",
    "\n",
    "a2c = Cumulative_returns_daily_drl_a2c[np.argmin(Cumulative_returns_daily_drl_a2c[:,-1])]\n",
    "plt.plot(x, a2c, color='tab:brown', label='A2C', linewidth =2.0)\n",
    "ppo = Cumulative_returns_daily_drl_ppo[np.argmin(Cumulative_returns_daily_drl_ppo[:,-1])]\n",
    "plt.plot(x, ppo, color='tab:purple', label='PPO', linewidth =2.0)\n",
    "ddpg = Cumulative_returns_daily_drl_ddpg[np.argmin(Cumulative_returns_daily_drl_ddpg[:,-1])]\n",
    "plt.plot(x, ddpg, color='tab:pink', label='DDPG', linewidth =2.0)\n",
    "sac = Cumulative_returns_daily_drl_sac[np.argmin(Cumulative_returns_daily_drl_sac[:,-1])]\n",
    "plt.plot(x, sac, color='tab:orange', label='SAC', linewidth =2.0)\n",
    "td3 = Cumulative_returns_daily_drl_td3[np.argmin(Cumulative_returns_daily_drl_td3[:,-1])]\n",
    "plt.plot(x, td3, color='tab:blue', label='TD3', linewidth =2.0)\n",
    "\n",
    "plt.axhline(1, color='black', linestyle='--', linewidth =2.0)\n",
    "plt.margins(x=0)\n",
    "plt.ylabel(\"Cumulative Returns\")\n",
    "plt.xlabel(\"Time (Years-Months)\")\n",
    "plt.legend()\n",
    "plt.savefig(str(rebalance_period)+'_cumulative_returns_min0.png',bbox_inches='tight')"
   ]
  },
  {
   "cell_type": "code",
   "execution_count": null,
   "id": "56cc650b-1728-4611-aff1-d2e182f99309",
   "metadata": {},
   "outputs": [],
   "source": [
    "portfolio_weights_ppo_ = portfolio_weights_ppo[np.argmax(Cumulative_returns_daily_drl_ppo[:,-1])]\n",
    "return_stocks_ppo = np.sum(return_stocks.multiply(portfolio_weights_ppo_),axis=1)\n",
    "\n",
    "portfolio_weights_a2c_ = portfolio_weights_a2c[np.argmax(Cumulative_returns_daily_drl_a2c[:,-1])]\n",
    "return_stocks_a2c = np.sum(return_stocks.multiply(portfolio_weights_a2c_),axis=1)\n",
    "\n",
    "portfolio_weights_ddpg_ = portfolio_weights_ddpg[np.argmax(Cumulative_returns_daily_drl_ddpg[:,-1])]\n",
    "return_stocks_ddpg = np.sum(return_stocks.multiply(portfolio_weights_ddpg_),axis=1)\n",
    "\n",
    "portfolio_weights_sac_ = portfolio_weights_sac[np.argmax(Cumulative_returns_daily_drl_sac[:,-1])]\n",
    "return_stocks_sac = np.sum(return_stocks.multiply(portfolio_weights_sac_),axis=1)\n",
    "\n",
    "portfolio_weights_td3_ = portfolio_weights_td3[np.argmax(Cumulative_returns_daily_drl_td3[:,-1])]\n",
    "return_stocks_td3 = np.sum(return_stocks.multiply(portfolio_weights_td3_),axis=1)"
   ]
  },
  {
   "cell_type": "code",
   "execution_count": null,
   "id": "a7efdcec-bbc0-4a5b-9576-af4743a784ea",
   "metadata": {},
   "outputs": [],
   "source": [
    "portfolio_weights_ppo_ = portfolio_weights_ppo[np.argmin(Cumulative_returns_daily_drl_ppo[:,-1])]\n",
    "return_stocks_ppo = np.sum(return_stocks.multiply(portfolio_weights_ppo_),axis=1)\n",
    "\n",
    "portfolio_weights_a2c_ = portfolio_weights_a2c[np.argmin(Cumulative_returns_daily_drl_a2c[:,-1])]\n",
    "return_stocks_a2c = np.sum(return_stocks.multiply(portfolio_weights_a2c_),axis=1)\n",
    "\n",
    "portfolio_weights_ddpg_ = portfolio_weights_ddpg[np.argmin(Cumulative_returns_daily_drl_ddpg[:,-1])]\n",
    "return_stocks_ddpg = np.sum(return_stocks.multiply(portfolio_weights_ddpg_),axis=1)\n",
    "\n",
    "portfolio_weights_sac_ = portfolio_weights_sac[np.argmin(Cumulative_returns_daily_drl_sac[:,-1])]\n",
    "return_stocks_sac = np.sum(return_stocks.multiply(portfolio_weights_sac_),axis=1)\n",
    "\n",
    "portfolio_weights_td3_ = portfolio_weights_td3[np.argmin(Cumulative_returns_daily_drl_td3[:,-1])]\n",
    "return_stocks_td3 = np.sum(return_stocks.multiply(portfolio_weights_td3_),axis=1)"
   ]
  },
  {
   "cell_type": "code",
   "execution_count": null,
   "id": "4813b0f4-f44a-480f-9c2c-39c5b2e234b8",
   "metadata": {},
   "outputs": [],
   "source": [
    "return_stocks_ppo\n",
    "return_stocks_a2c\n",
    "return_stocks_ddpg\n",
    "return_stocks_sac\n",
    "return_stocks_td3\n",
    "return_stocks_min_var\n",
    "return_stocks_min_vol\n",
    "return_stocks_risk\n",
    "return_stocks_equal\n",
    "print(\"\")"
   ]
  },
  {
   "cell_type": "markdown",
   "id": "46cfb28a-f709-4b23-86f3-dc161ed1fd51",
   "metadata": {},
   "source": [
    "## Other statistics"
   ]
  },
  {
   "cell_type": "code",
   "execution_count": null,
   "id": "fd8a46ae-c0e8-4fa6-86d0-5980a7fe2d9a",
   "metadata": {},
   "outputs": [],
   "source": [
    "import pyfolio"
   ]
  },
  {
   "cell_type": "code",
   "execution_count": null,
   "id": "fdb7b713-0e4a-4e7e-8042-8e81965f253b",
   "metadata": {},
   "outputs": [],
   "source": [
    "with pyfolio.plotting.plotting_context(font_scale=1.1):\n",
    "    pyfolio.create_full_tear_sheet(returns = return_stocks_ppo, set_context=False)"
   ]
  },
  {
   "cell_type": "code",
   "execution_count": null,
   "id": "21a0e0d9-9f1a-463e-89d1-8cde55b59fd0",
   "metadata": {},
   "outputs": [],
   "source": []
  }
 ],
 "metadata": {
  "kernelspec": {
   "display_name": "Python 3 (ipykernel)",
   "language": "python",
   "name": "python3"
  },
  "language_info": {
   "codemirror_mode": {
    "name": "ipython",
    "version": 3
   },
   "file_extension": ".py",
   "mimetype": "text/x-python",
   "name": "python",
   "nbconvert_exporter": "python",
   "pygments_lexer": "ipython3",
   "version": "3.9.12"
  },
  "toc": {
   "base_numbering": 1,
   "nav_menu": {},
   "number_sections": true,
   "sideBar": true,
   "skip_h1_title": false,
   "title_cell": "Table of Contents",
   "title_sidebar": "Contents",
   "toc_cell": false,
   "toc_position": {},
   "toc_section_display": true,
   "toc_window_display": false
  }
 },
 "nbformat": 4,
 "nbformat_minor": 5
}
